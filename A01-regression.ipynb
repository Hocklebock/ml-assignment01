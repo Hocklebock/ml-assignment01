{
 "cells": [
  {
   "cell_type": "markdown",
   "metadata": {},
   "source": [
    "# Assignment 01"
   ]
  },
  {
   "cell_type": "markdown",
   "metadata": {},
   "source": [
    "## Exercise 1 : Machine Learning (general)\n",
    "**(a) Define the terms “supervised learning”, “unsupervised learning”, and “reinforcement learning”.**  \n",
    "  *  *supervised learning:* Learn a function from a set of **input-output-pairs** i.e. labeled data. An important branch of supervised learning is automated classification e.g. linear and logistic regression, Naive Bayes, Candidate Elimination\n",
    "  *  *unsupervised learning:*  Identify indirect hidden structures, patterns or features in the input data **(does not use output data)**. Important subareas of unsupervised learning include automated categorization (e.g. via cluster analysis), parameter optimization and feature extraction e.g. Neural Networks\n",
    "  *  *reinforcement learning:* Learn, adapt, or optimize a behavior strategy in order to maximize the own benefit **(earn the greatest reward)** by interpreting feedback that is provided by the environment. e.g. agent-based"
   ]
  },
  {
   "cell_type": "markdown",
   "metadata": {},
   "source": [
    "**(b) Sketch for each learning paradigm a typical problem together with a description of its technical realization.**\n",
    "  *  *supervised learning:* Spam Filter based on a dataset that contains already classified mail as spam or non-spam mail. Naive-Bayes algorithm to classify new mail.\n",
    "  *  *unsupervised learning:*  Categorization of objects with multiple attributes with cluster analysis.\n",
    "  *  *reinforcement learning:*  Solve a task with indirect feedback e.g. win a game   \n"
   ]
  },
  {
   "cell_type": "markdown",
   "metadata": {},
   "source": [
    "## Exercise 2 : Machine Learning (general)\n",
    "**(a) Which design decisions are to be made during the [development of a learning system](https://medium.com/@yaelg/product-manager-guide-part-3-developing-a-machine-learning-model-from-start-to-finish-c3e12fd835e4)?**\n",
    "- choose object function:\n",
    "    *  Which interesting aspects of the real world are accessed in the model world (restricted to particular—typically easily measurable—features x)\n",
    "- search and identify potential inputs:\n",
    "    *  How would an expert in the space approach this problem?\n",
    "    *  Which are the important classes of model functions?\n",
    "    *  Which methods are used to fit (= learn) model functions?\n",
    "- define quality metrics:\n",
    "    *  Which measures are used to assess the goodness of fit?\n",
    "    *  How does the example number affect the learning process?\n",
    "    *  How does noise affect the learning process?"
   ]
  },
  {
   "cell_type": "markdown",
   "metadata": {},
   "source": [
    "**(b) What is the difference between inductive learning and deductive reasoning (= learning through deduction)?**\n",
    "  *  *Inductive bias* is the set of assumptions that, together with the training data, deductively justify the classification by the learner to future instances i.e. based on evidence you have collected so far. \n",
    "  *   In *deductive reasoning*, a conclusion is reached reductively by applying general rules which hold over the domain i.e. make statements that are entailed by facts (not applicable to statistical learning since it does not construct a hypothesis).  \n",
    "  *  A learning algorithm without inductive bias has no directive to classify unseen examples. Put another way: the learner cannot generalize (only memorize)."
   ]
  },
  {
   "cell_type": "markdown",
   "metadata": {},
   "source": [
    "**(c) Name an example of a problem which cannot be solved by learning. Explain your answer.**  \n",
    "e.g. The halting problem for Turing machines is an undecidable classification problem."
   ]
  },
  {
   "cell_type": "markdown",
   "metadata": {},
   "source": [
    "## Exercise 3 : Linear Regression\n",
    "The table below describes four cars by their age and stopping distance for a full braking at 100km/h till stop."
   ]
  },
  {
   "cell_type": "code",
   "execution_count": 2,
   "metadata": {},
   "outputs": [
    {
     "data": {
      "text/html": [
       "<div>\n",
       "<style scoped>\n",
       "    .dataframe tbody tr th:only-of-type {\n",
       "        vertical-align: middle;\n",
       "    }\n",
       "\n",
       "    .dataframe tbody tr th {\n",
       "        vertical-align: top;\n",
       "    }\n",
       "\n",
       "    .dataframe thead th {\n",
       "        text-align: right;\n",
       "    }\n",
       "</style>\n",
       "<table border=\"1\" class=\"dataframe\">\n",
       "  <thead>\n",
       "    <tr style=\"text-align: right;\">\n",
       "      <th></th>\n",
       "      <th>Age (year)</th>\n",
       "      <th>Mileage (km)</th>\n",
       "      <th>Stopping distance (meter)</th>\n",
       "    </tr>\n",
       "  </thead>\n",
       "  <tbody>\n",
       "    <tr>\n",
       "      <th>0</th>\n",
       "      <td>5</td>\n",
       "      <td>30530</td>\n",
       "      <td>50</td>\n",
       "    </tr>\n",
       "    <tr>\n",
       "      <th>1</th>\n",
       "      <td>7</td>\n",
       "      <td>90000</td>\n",
       "      <td>79</td>\n",
       "    </tr>\n",
       "    <tr>\n",
       "      <th>2</th>\n",
       "      <td>15</td>\n",
       "      <td>159899</td>\n",
       "      <td>124</td>\n",
       "    </tr>\n",
       "    <tr>\n",
       "      <th>3</th>\n",
       "      <td>28</td>\n",
       "      <td>270564</td>\n",
       "      <td>300</td>\n",
       "    </tr>\n",
       "  </tbody>\n",
       "</table>\n",
       "</div>"
      ],
      "text/plain": [
       "   Age (year)  Mileage (km)   Stopping distance (meter)\n",
       "0           5          30530                         50\n",
       "1           7          90000                         79\n",
       "2          15         159899                        124\n",
       "3          28         270564                        300"
      ]
     },
     "execution_count": 2,
     "metadata": {},
     "output_type": "execute_result"
    }
   ],
   "source": [
    "from numpy import array, transpose\n",
    "from pandas import DataFrame\n",
    "data = array([[5, 7, 15, 28], [30530, 90000, 159899, 270564], [50, 79, 124, 300]])\n",
    "DataFrame(data.transpose(), columns=[\"Age (year)\", \"Mileage (km) \", \"Stopping distance (meter)\"]) #, columns=[\"Wartburg\", \"Moskvich\", \"Lada\", \"Trabi\"])"
   ]
  },
  {
   "cell_type": "markdown",
   "metadata": {},
   "source": [
    "**(a) Determine the weights wi for the linear regression for the age variable.**"
   ]
  },
  {
   "cell_type": "code",
   "execution_count": 17,
   "metadata": {},
   "outputs": [
    {
     "name": "stdout",
     "output_type": "stream",
     "text": [
      "w0 =  -7.3190512624330495\n",
      "w1 =  10.586840091813313\n"
     ]
    }
   ],
   "source": [
    "from numpy import mean\n",
    "w1 = sum((data[0] - mean(data[0]))*(data[2] - mean(data[2])))/sum((data[0] - mean(data[0]))**2)\n",
    "w0 = mean(data[2]) - w1 * mean(data[0])\n",
    "func = lambda x: w0 + w1 * x\n",
    "print(\"w0 = \", w0)\n",
    "print(\"w1 = \", w1)"
   ]
  },
  {
   "cell_type": "markdown",
   "metadata": {},
   "source": [
    "**(b) Extrapolate the expected average stopping distance for a 15-year old car. Note: use the model from (a).**"
   ]
  },
  {
   "cell_type": "code",
   "execution_count": 18,
   "metadata": {},
   "outputs": [
    {
     "name": "stdout",
     "output_type": "stream",
     "text": [
      "y(15) =  151.48355011476664\n"
     ]
    }
   ],
   "source": [
    "print(\"y(15) = \", func(15))"
   ]
  },
  {
   "cell_type": "markdown",
   "metadata": {},
   "source": [
    "**(d) Draw a scatter plot of the data and the linear regression for a variable of your choice.**"
   ]
  },
  {
   "cell_type": "code",
   "execution_count": 20,
   "metadata": {},
   "outputs": [
    {
     "data": {
      "image/png": "[encoded data removed]",
      "text/plain": [
       "<Figure size 432x288 with 1 Axes>"
      ]
     },
     "metadata": {
      "needs_background": "light"
     },
     "output_type": "display_data"
    }
   ],
   "source": [
    "%matplotlib inline\n",
    "import matplotlib.pyplot as plt\n",
    "plt.xlabel('Age (year)')\n",
    "plt.ylabel('Stopping distance (meter)')\n",
    "plt.title('Linear Regression')\n",
    "plt.scatter(data[0], data[2], 10, c=\"r\")\n",
    "plt.plot(data[0], func(data[0]), c=\"k\")\n",
    "plt.show()"
   ]
  },
  {
   "cell_type": "markdown",
   "metadata": {},
   "source": [
    "## Exercise 4 : Basic Data Analysis and Linear Regression\n",
    "(a) Download Fisher’s Iris data set from www.math.uah.edu/stat/data/Fisher.html. Write a Python program that reads the data set into memory and computes the mean, minimum and maximum of the petal width, petal length, sepal width and sepal length attributes for each of the three species of flower. Which of the species will be easy to distinguish, and which will be hard?"
   ]
  },
  {
   "cell_type": "code",
   "execution_count": 8,
   "metadata": {},
   "outputs": [
    {
     "name": "stdout",
     "output_type": "stream",
     "text": [
      "sepal length in cm\n"
     ]
    },
    {
     "data": {
      "text/html": [
       "<div>\n",
       "<style scoped>\n",
       "    .dataframe tbody tr th:only-of-type {\n",
       "        vertical-align: middle;\n",
       "    }\n",
       "\n",
       "    .dataframe tbody tr th {\n",
       "        vertical-align: top;\n",
       "    }\n",
       "\n",
       "    .dataframe thead th {\n",
       "        text-align: right;\n",
       "    }\n",
       "</style>\n",
       "<table border=\"1\" class=\"dataframe\">\n",
       "  <thead>\n",
       "    <tr style=\"text-align: right;\">\n",
       "      <th></th>\n",
       "      <th>Class</th>\n",
       "      <th>Min</th>\n",
       "      <th>Max</th>\n",
       "      <th>Mean</th>\n",
       "    </tr>\n",
       "  </thead>\n",
       "  <tbody>\n",
       "    <tr>\n",
       "      <th>0</th>\n",
       "      <td>Iris-Setosa</td>\n",
       "      <td>4.3</td>\n",
       "      <td>5.8</td>\n",
       "      <td>5.006</td>\n",
       "    </tr>\n",
       "    <tr>\n",
       "      <th>1</th>\n",
       "      <td>Iris-Versicolour</td>\n",
       "      <td>4.9</td>\n",
       "      <td>7.0</td>\n",
       "      <td>5.936</td>\n",
       "    </tr>\n",
       "    <tr>\n",
       "      <th>2</th>\n",
       "      <td>Iris-Virginica</td>\n",
       "      <td>4.9</td>\n",
       "      <td>7.9</td>\n",
       "      <td>6.587999999999998</td>\n",
       "    </tr>\n",
       "  </tbody>\n",
       "</table>\n",
       "</div>"
      ],
      "text/plain": [
       "              Class  Min  Max               Mean\n",
       "0       Iris-Setosa  4.3  5.8              5.006\n",
       "1  Iris-Versicolour  4.9  7.0              5.936\n",
       "2    Iris-Virginica  4.9  7.9  6.587999999999998"
      ]
     },
     "execution_count": 8,
     "metadata": {},
     "output_type": "execute_result"
    }
   ],
   "source": [
    "from numpy import array, mean, transpose\n",
    "from sklearn import datasets\n",
    "iris = datasets.load_iris()\n",
    "\n",
    "print(\"sepal length in cm\")\n",
    "mins = [min(iris.data[iris.target == i, 0]) for i in set(iris.target)]\n",
    "maxs = [max(iris.data[iris.target == i, 0]) for i in set(iris.target)]\n",
    "means = [mean(iris.data[iris.target == i, 0]) for i in set(iris.target)]\n",
    "from pandas import DataFrame\n",
    "data = array([['Iris-Setosa','Iris-Versicolour', 'Iris-Virginica'], mins, maxs, means])\n",
    "DataFrame(data.transpose(), columns=[\"Class\", \"Min\", \"Max\", \"Mean\"])\n"
   ]
  },
  {
   "cell_type": "markdown",
   "metadata": {},
   "source": [
    "(b) Using the matplotlib library, draw a scatter plot that shows the petal length attribute on the x-axis, and the sepal length attribute on the y-axis. Use different colors for the three different species and label the axes.\n"
   ]
  },
  {
   "cell_type": "code",
   "execution_count": 9,
   "metadata": {},
   "outputs": [
    {
     "data": {
      "image/png": "[encoded data removed]",
      "text/plain": [
       "<Figure size 432x288 with 1 Axes>"
      ]
     },
     "metadata": {
      "needs_background": "light"
     },
     "output_type": "display_data"
    }
   ],
   "source": [
    "%matplotlib inline\n",
    "import matplotlib.pyplot as plt\n",
    "plt.xlabel('petal length (cm)')\n",
    "plt.ylabel('sepal width (cm)')\n",
    "plt.title('types in iris dataset')\n",
    "\n",
    "cmap = plt.cm.get_cmap('hsv', 4)\n",
    "for j in range(3): \n",
    "    plt.scatter(iris.data[iris.target == j,2], iris.data[iris.target == j,1], s=10, c=cmap(j))\n",
    "  \n",
    "plt.show()"
   ]
  },
  {
   "cell_type": "markdown",
   "metadata": {},
   "source": [
    "(c) Create a subset of the Iris data that contains only the sepal length attribute, and only the setosa and virginica classes. Draw a scatterplot showing the attribute on the x-axis and the class on the y-axis. Using the LMS algorithm given in the lecture, compute the weight vector (w0, w1), and add the line of best fit to your plot. What is the residual sum of squares (RSS) for your weight vector?"
   ]
  },
  {
   "cell_type": "code",
   "execution_count": 10,
   "metadata": {},
   "outputs": [],
   "source": [
    "from numpy import concatenate, ones\n",
    "c = concatenate((iris.target[iris.target == 0], iris.target[iris.target == 2])).T\n",
    "x = concatenate((iris.data[iris.target == 0, 0], iris.data[iris.target == 2, 0]))\n",
    "x = array([ones(x.shape[0]), x]).T\n"
   ]
  },
  {
   "cell_type": "code",
   "execution_count": 11,
   "metadata": {},
   "outputs": [],
   "source": [
    "from numpy import zeros, dot\n",
    "from numpy.random import randint, uniform\n",
    "\n",
    "\n",
    "# least mean square\n",
    "def lms(x, c, iterations=10000, eta=1e-5, w=uniform(low=-1.0, high=1.0, size=2)):\n",
    "    count = 0\n",
    "    \n",
    "    dw = zeros(2)\n",
    "    while count < iterations:    \n",
    "        i = randint(0, x.shape[0])\n",
    "        error = c[i] - dot(w, x[i])\n",
    "        dw = eta * error * x[i]\n",
    "        #print(i,\" : dw = \", dw)\n",
    "\n",
    "        w += dw\n",
    "        #print(\"w= \", w)\n",
    "        count += 1\n",
    "        \n",
    "        if sum((c - x.dot(w))**2) < 1e-3: break\n",
    "\n",
    "    return w"
   ]
  },
  {
   "cell_type": "code",
   "execution_count": 20,
   "metadata": {},
   "outputs": [],
   "source": [
    "w = lms(x, c)\n",
    "reg = lambda x: w[0] + w[1] * array(x)\n",
    "clas = lambda x: 2 if reg(x) > 1 else 0"
   ]
  },
  {
   "cell_type": "code",
   "execution_count": 26,
   "metadata": {},
   "outputs": [
    {
     "data": {
      "image/png": "[encoded data removed]",
      "text/plain": [
       "<Figure size 432x288 with 1 Axes>"
      ]
     },
     "metadata": {
      "needs_background": "light"
     },
     "output_type": "display_data"
    }
   ],
   "source": [
    "%matplotlib inline\n",
    "import matplotlib.pyplot as plt\n",
    "from numpy import sort\n",
    "\n",
    "plt.xlabel('sepal length (cm)')\n",
    "plt.ylabel('class')\n",
    "plt.title('Classification')\n",
    "plt.scatter(x[:,1], c, s=10, c='r')  \n",
    "plt.plot([3,9], reg([3,9]), c='k')\n",
    "plt.plot(sort(x[:,1]), [clas(xi) for xi in sort(x[:,1])], c='r')\n",
    "plt.show()"
   ]
  }
 ],
 "metadata": {
  "kernelspec": {
   "display_name": "Python 3",
   "language": "python",
   "name": "python3"
  },
  "language_info": {
   "codemirror_mode": {
    "name": "ipython",
    "version": 3
   },
   "file_extension": ".py",
   "mimetype": "text/x-python",
   "name": "python",
   "nbconvert_exporter": "python",
   "pygments_lexer": "ipython3",
   "version": "3.6.6"
  }
 },
 "nbformat": 4,
 "nbformat_minor": 2
}
